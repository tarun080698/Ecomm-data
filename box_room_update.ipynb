{
 "cells": [
  {
   "cell_type": "code",
   "execution_count": 6,
   "metadata": {},
   "outputs": [
    {
     "name": "stdout",
     "output_type": "stream",
     "text": [
      "Updated Excel file saved as /Users/njlalwani/Library/CloudStorage/OneDrive-Personal/Milano/Ecom_data.xlsx\n"
     ]
    }
   ],
   "source": [
    "import pandas as pd\n",
    "\n",
    "# Load the Excel file\n",
    "file_path = '/Users/njlalwani/Library/CloudStorage/OneDrive-Personal/Milano/Ecom_data.xlsx'\n",
    "df = pd.read_excel(file_path)\n",
    "\n",
    "# Define the function to map box numbers to locations\n",
    "def map_box_to_location(box_number):\n",
    "    if 1 <= box_number <= 159:\n",
    "        return 3033\n",
    "    elif 160 <= box_number <= 232:\n",
    "        return 3033\n",
    "    elif 233 <= box_number <= 391:\n",
    "        return 3032\n",
    "    elif 392 <= box_number <= 398:\n",
    "        return 3033\n",
    "    elif 399 <= box_number <= 479:\n",
    "        return 3033\n",
    "    elif 480 <= box_number <= 505:\n",
    "        return 3240\n",
    "    elif 506 <= box_number <= 613:\n",
    "        return 3735\n",
    "    elif 614 <= box_number <= 727:\n",
    "        return 3733\n",
    "    elif 728 <= box_number <= 857:\n",
    "        return 3240\n",
    "    else:\n",
    "        return None\n",
    "\n",
    "# Apply the function to add the BOX LOCATION column\n",
    "df['BOX LOCATION'] = df['BOX NUMBER'].apply(map_box_to_location)\n",
    "\n",
    "# Save the updated DataFrame back to an Excel file\n",
    "output_file_path = file_path\n",
    "df.to_excel(output_file_path, index=False)\n",
    "\n",
    "print(f\"Updated Excel file saved as {output_file_path}\")\n"
   ]
  }
 ],
 "metadata": {
  "kernelspec": {
   "display_name": "base",
   "language": "python",
   "name": "python3"
  },
  "language_info": {
   "codemirror_mode": {
    "name": "ipython",
    "version": 3
   },
   "file_extension": ".py",
   "mimetype": "text/x-python",
   "name": "python",
   "nbconvert_exporter": "python",
   "pygments_lexer": "ipython3",
   "version": "3.11.9"
  }
 },
 "nbformat": 4,
 "nbformat_minor": 2
}
