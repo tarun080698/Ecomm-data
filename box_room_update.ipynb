{
 "cells": [
  {
   "cell_type": "code",
   "execution_count": 6,
   "metadata": {},
   "outputs": [
    {
     "name": "stdout",
     "output_type": "stream",
     "text": [
      "Updated Excel file saved as /Users/njlalwani/Library/CloudStorage/OneDrive-Personal/Milano/Ecom_data.xlsx\n"
     ]
    }
   ],
   "source": [
    "import pandas as pd\n",
    "from openpyxl import load_workbook\n",
    "\n",
    "# Load the Excel file\n",
    "file_path = 'path'\n",
    "sheet_name = 'Main Datasheet'  # specify the sheet name you want to update\n",
    "df = pd.read_excel(file_path, sheet_name=sheet_name)\n",
    "\n",
    "# Define the function to map box numbers to locations\n",
    "def map_box_to_location(box_number):\n",
    "    if 1 <= box_number <= 159:\n",
    "        return 3033\n",
    "    elif 160 <= box_number <= 232:\n",
    "        return 3033\n",
    "    elif 233 <= box_number <= 391:\n",
    "        return 3032\n",
    "    elif 392 <= box_number <= 398:\n",
    "        return 3033\n",
    "    elif 399 <= box_number <= 479:\n",
    "        return 3033\n",
    "    elif 480 <= box_number <= 505:\n",
    "        return 3240\n",
    "    elif 506 <= box_number <= 613:\n",
    "        return 3735\n",
    "    elif 614 <= box_number <= 727:\n",
    "        return 3733\n",
    "    elif 728 <= box_number <= 857:\n",
    "        return 3240\n",
    "    else:\n",
    "        return None\n",
    "\n",
    "# Apply the function to add the BOX LOCATION column\n",
    "df['BOX LOCATION'] = df['BOX NUMBER'].apply(map_box_to_location)\n",
    "\n",
    "# Load the workbook and update the specific sheet\n",
    "book = load_workbook(file_path)\n",
    "with pd.ExcelWriter(file_path, engine='openpyxl') as writer:\n",
    "    writer.book = book\n",
    "    df.to_excel(writer, sheet_name=sheet_name, index=False)\n",
    "    writer.save()\n",
    "\n",
    "print(f\"Updated Excel file saved as {file_path}\")"
   ]
  }
 ],
 "metadata": {
  "kernelspec": {
   "display_name": "base",
   "language": "python",
   "name": "python3"
  },
  "language_info": {
   "codemirror_mode": {
    "name": "ipython",
    "version": 3
   },
   "file_extension": ".py",
   "mimetype": "text/x-python",
   "name": "python",
   "nbconvert_exporter": "python",
   "pygments_lexer": "ipython3",
   "version": "3.11.9"
  }
 },
 "nbformat": 4,
 "nbformat_minor": 2
}
