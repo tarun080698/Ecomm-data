{
 "cells": [
  {
   "cell_type": "code",
   "execution_count": 8,
   "metadata": {},
   "outputs": [
    {
     "name": "stdout",
     "output_type": "stream",
     "text": [
      "Data saved to files_by_code_color.csv\n"
     ]
    }
   ],
   "source": [
    "import os\n",
    "import re\n",
    "import csv\n",
    "import pandas as pd\n",
    "from collections import defaultdict\n"
   ]
  },
  {
   "cell_type": "code",
   "execution_count": null,
   "metadata": {},
   "outputs": [],
   "source": [
    "\n",
    "# Function to extract code and color from filename\n",
    "def extract_code_color(filename):\n",
    "    match = re.match(r'([a-zA-Z0-9]+)_([a-zA-Z0-9]+)_\\d+\\.\\w+', filename)\n",
    "    if match:\n",
    "        return match.group(1), match.group(2)\n",
    "    return None, None\n",
    "\n",
    "def get_files_by_code_color(directory):\n",
    "    files_by_code_color = defaultdict(list)\n",
    "\n",
    "    # List files in directory\n",
    "    for filename in os.listdir(directory):\n",
    "        if os.path.isfile(os.path.join(directory, filename)):\n",
    "            code, color = extract_code_color(filename)\n",
    "            if code and color:\n",
    "                key = (code, color)\n",
    "                files_by_code_color[key].append(filename)\n",
    "\n",
    "    return files_by_code_color\n",
    "\n",
    "def save_to_csv(files_by_code_color, output_csv):\n",
    "    with open(output_csv, mode='w', newline='') as file:\n",
    "        writer = csv.writer(file)\n",
    "        writer.writerow(['Code', 'Color'] + ['Filename' + str(i) for i in range(1, max(len(files) for files in files_by_code_color.values()) + 1)])\n",
    "        for (code, color), files in files_by_code_color.items():\n",
    "            row = [code, color] + files\n",
    "            writer.writerow(row)\n",
    "\n",
    "# Directory containing the files\n",
    "directory = '/Users/njlalwani/Documents/GitHub/Ecomm-data/photo_scripts/shopify_images'\n",
    "\n",
    "# Output CSV file\n",
    "output_csv = 'files_by_code_color.csv'\n",
    "\n",
    "files_by_code_color = get_files_by_code_color(directory)\n",
    "save_to_csv(files_by_code_color, output_csv)\n",
    "\n",
    "print(f'Data saved to {output_csv}')\n",
    "\n",
    "\n",
    "\n",
    "\n",
    "\n"
   ]
  },
  {
   "cell_type": "code",
   "execution_count": 11,
   "metadata": {},
   "outputs": [
    {
     "name": "stdout",
     "output_type": "stream",
     "text": [
      "Results saved to inventory_of_absent_combinations.csv\n"
     ]
    }
   ],
   "source": [
    "\n",
    "\n",
    "# Load the uploaded files\n",
    "files_by_color_path = 'files_by_code_color.csv'\n",
    "ecom_data_path = '/Users/njlalwani/Library/CloudStorage/OneDrive-Personal/Milano/MILANO_DATA_LOCKED.xlsx'\n",
    "\n",
    "files_by_color = pd.read_csv(files_by_color_path)\n",
    "ecom_data = pd.read_excel(ecom_data_path, sheet_name=None)\n",
    "\n",
    "# Load the MAIN DATASHEET from the Excel file\n",
    "main_datasheet = ecom_data['MAIN DATASHEET']\n",
    "\n",
    "# Extracting relevant columns from both dataframes\n",
    "main_datasheet_relevant = main_datasheet[['STYLE NO.', 'COLOR']].drop_duplicates()\n",
    "files_by_color_relevant = files_by_color[['Code', 'Color']].drop_duplicates()\n",
    "\n",
    "# Renaming columns for consistency before merging\n",
    "main_datasheet_relevant.columns = ['Style', 'Color']\n",
    "files_by_color_relevant.columns = ['Style', 'Color']\n",
    "\n",
    "# Finding combinations in main_datasheet that are not in files_by_color\n",
    "absent_combinations = pd.merge(main_datasheet_relevant, files_by_color_relevant, on=['Style', 'Color'], how='left', indicator=True)\n",
    "absent_combinations = absent_combinations[absent_combinations['_merge'] == 'left_only'].drop(columns=['_merge'])\n",
    "\n",
    "# Clean the SIZE_US column by converting it to numeric, errors='coerce' will turn non-numeric values into NaN\n",
    "main_datasheet['SIZE_US'] = pd.to_numeric(main_datasheet['SIZE_US'], errors='coerce')\n",
    "\n",
    "# Filter main datasheet for SIZE_US in the range 4 to 14\n",
    "filtered_main_datasheet = main_datasheet[main_datasheet['SIZE_US'].between(4, 14)]\n",
    "\n",
    "# Merge filtered main datasheet with absent combinations to find the relevant inventory\n",
    "relevant_inventory = pd.merge(filtered_main_datasheet, absent_combinations, left_on=['STYLE NO.', 'COLOR'], right_on=['Style', 'Color'])\n",
    "\n",
    "# Select the relevant columns\n",
    "relevant_inventory = relevant_inventory[['STYLE NO.', 'COLOR', 'BOX NUMBER', 'SIZE_US']]\n",
    "\n",
    "# Save the result to a CSV file\n",
    "output_path = 'inventory_of_absent_combinations.csv'\n",
    "relevant_inventory.to_csv(output_path, index=False)\n",
    "\n",
    "# Display the path to the saved file\n",
    "print(f'Results saved to {output_path}')\n"
   ]
  },
  {
   "cell_type": "code",
   "execution_count": 13,
   "metadata": {},
   "outputs": [
    {
     "data": {
      "text/plain": [
       "'optimal_boxes_for_style_color_combinations.csv'"
      ]
     },
     "execution_count": 13,
     "metadata": {},
     "output_type": "execute_result"
    }
   ],
   "source": [
    "import pandas as pd\n",
    "\n",
    "# Load the CSV file\n",
    "file_path = 'inventory_of_absent_combinations.csv'\n",
    "df = pd.read_csv(file_path)\n",
    "\n",
    "def find_best_boxes(df):\n",
    "    results = []\n",
    "\n",
    "    # Get unique style-color combinations\n",
    "    style_color_combinations = df[['STYLE NO.', 'COLOR']].drop_duplicates()\n",
    "\n",
    "    for _, row in style_color_combinations.iterrows():\n",
    "        style = row['STYLE NO.']\n",
    "        color = row['COLOR']\n",
    "\n",
    "        # Filter the dataframe for the current style-color combination\n",
    "        subset = df[(df['STYLE NO.'] == style) & (df['COLOR'] == color)]\n",
    "\n",
    "        # Find the optimal set of boxes to cover sizes 4-14\n",
    "        sizes_needed = set(range(4, 15))\n",
    "        boxes_needed = set()\n",
    "        \n",
    "        while sizes_needed:\n",
    "            # Find the box that covers the most uncovered sizes\n",
    "            box_counts = subset[subset['SIZE_US'].isin(sizes_needed)]['BOX NUMBER'].value_counts()\n",
    "            if box_counts.empty:\n",
    "                # If no boxes cover the remaining sizes, break the loop\n",
    "                break\n",
    "            best_box = box_counts.idxmax()\n",
    "            boxes_needed.add(best_box)\n",
    "\n",
    "            # Remove the sizes covered by the selected box\n",
    "            sizes_covered = subset[subset['BOX NUMBER'] == best_box]['SIZE_US']\n",
    "            sizes_needed -= set(sizes_covered)\n",
    "\n",
    "        # Store the result for the current style-color combination\n",
    "        results.append({'STYLE NO.': style, 'COLOR': color, 'BOXES NEEDED': list(boxes_needed)})\n",
    "\n",
    "    return pd.DataFrame(results)\n",
    "\n",
    "# Apply the function to the dataframe\n",
    "result_df = find_best_boxes(df)\n",
    "\n",
    "# Save the results to a new CSV file\n",
    "output_file_path = 'optimal_boxes_for_style_color_combinations.csv'\n",
    "result_df.to_csv(output_file_path, index=False)\n",
    "\n",
    "# Display the saved file path to the user\n",
    "output_file_path\n"
   ]
  },
  {
   "cell_type": "code",
   "execution_count": 15,
   "metadata": {},
   "outputs": [
    {
     "name": "stdout",
     "output_type": "stream",
     "text": [
      "unique_style_color_combinations.csv\n"
     ]
    }
   ],
   "source": [
    "import pandas as pd\n",
    "\n",
    "# Load the CSV and Excel files\n",
    "files_by_code_color_path = 'files_by_code_color.csv'\n",
    "ecomm_data_path = '/Users/njlalwani/Library/CloudStorage/OneDrive-Personal/Milano/MILANO_DATA_LOCKED.xlsx'\n",
    "\n",
    "files_by_code_color_df = pd.read_csv(files_by_code_color_path)\n",
    "ecomm_data_df = pd.read_excel(ecomm_data_path)\n",
    "\n",
    "# Extract (style, color) combinations from files_by_code_color\n",
    "files_by_code_color_combinations = files_by_code_color_df[['Code', 'Color']].drop_duplicates()\n",
    "\n",
    "# Extract (style, color) combinations from ecomm_data\n",
    "ecomm_data_combinations = ecomm_data_df[['STYLE NO.', 'COLOR']].drop_duplicates()\n",
    "\n",
    "# Rename columns for consistent comparison\n",
    "files_by_code_color_combinations.columns = ['STYLE NO.', 'COLOR']\n",
    "\n",
    "# Find combinations present in ecomm_data but not in files_by_code_color\n",
    "unique_combinations = pd.merge(ecomm_data_combinations, files_by_code_color_combinations, on=['STYLE NO.', 'COLOR'], how='left', indicator=True)\n",
    "unique_combinations = unique_combinations[unique_combinations['_merge'] == 'left_only'].drop(columns=['_merge'])\n",
    "\n",
    "# Save the unique combinations to a CSV file\n",
    "unique_combinations_path = 'unique_style_color_combinations.csv'\n",
    "unique_combinations.to_csv(unique_combinations_path, index=False)\n",
    "\n",
    "# Display the saved file path\n",
    "print(unique_combinations_path)\n"
   ]
  },
  {
   "cell_type": "code",
   "execution_count": null,
   "metadata": {},
   "outputs": [],
   "source": []
  }
 ],
 "metadata": {
  "kernelspec": {
   "display_name": "base",
   "language": "python",
   "name": "python3"
  },
  "language_info": {
   "codemirror_mode": {
    "name": "ipython",
    "version": 3
   },
   "file_extension": ".py",
   "mimetype": "text/x-python",
   "name": "python",
   "nbconvert_exporter": "python",
   "pygments_lexer": "ipython3",
   "version": "3.11.9"
  }
 },
 "nbformat": 4,
 "nbformat_minor": 2
}
