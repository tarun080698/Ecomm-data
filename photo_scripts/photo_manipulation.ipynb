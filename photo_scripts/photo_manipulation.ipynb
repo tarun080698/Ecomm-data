{
 "cells": [
  {
   "cell_type": "markdown",
   "metadata": {},
   "source": [
    "Cleaning and Creating CSV for comparision"
   ]
  },
  {
   "cell_type": "code",
   "execution_count": 14,
   "metadata": {},
   "outputs": [
    {
     "name": "stdout",
     "output_type": "stream",
     "text": [
      "CSV file \"output.csv\" created successfully.\n"
     ]
    }
   ],
   "source": [
    "import os\n",
    "import csv\n",
    "import re\n",
    "\n",
    "# Define the folder containing the images\n",
    "folder_path = '/Users/njlalwani/Documents/GitHub/Ecomm-data/new/photo manipulation/images/BELLA_SPOSA_WEBSITE'\n",
    "output_csv = 'output.csv'\n",
    "\n",
    "# Create a list to store the processed data\n",
    "data = []\n",
    "\n",
    "# Regular expression to match the filenames\n",
    "filename_pattern = re.compile(r'^([a-zA-Z0-9]+) (.+?)(?: \\((\\d+)\\))?\\.png$')\n",
    "\n",
    "# Process each file in the folder\n",
    "for filename in os.listdir(folder_path):\n",
    "    match = filename_pattern.match(filename)\n",
    "    if match:\n",
    "        x_val = match.group(1)\n",
    "        colors = match.group(2).split(\", \")\n",
    "        num = int(match.group(3)) if match.group(3) else 1\n",
    "        \n",
    "        # Add each color as a separate row\n",
    "        for color in colors:\n",
    "            data.append([x_val, color, num])\n",
    "\n",
    "# Write the data to a CSV file\n",
    "with open(output_csv, 'w', newline='') as csvfile:\n",
    "    writer = csv.writer(csvfile)\n",
    "    writer.writerow(['X0000', 'Color', 'num'])  # Write the header\n",
    "    writer.writerows(data)\n",
    "\n",
    "print(f'CSV file \"{output_csv}\" created successfully.')\n"
   ]
  }
 ],
 "metadata": {
  "kernelspec": {
   "display_name": "base",
   "language": "python",
   "name": "python3"
  },
  "language_info": {
   "codemirror_mode": {
    "name": "ipython",
    "version": 3
   },
   "file_extension": ".py",
   "mimetype": "text/x-python",
   "name": "python",
   "nbconvert_exporter": "python",
   "pygments_lexer": "ipython3",
   "version": "3.11.9"
  }
 },
 "nbformat": 4,
 "nbformat_minor": 2
}
