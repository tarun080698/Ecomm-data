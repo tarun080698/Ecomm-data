{
 "cells": [
  {
   "cell_type": "markdown",
   "metadata": {},
   "source": [
    "###### As per the main_datasheet:\n",
    "1. Total Unique Styles: 571\n",
    "2. Total Unique styles with all colors: 999"
   ]
  },
  {
   "cell_type": "code",
   "execution_count": 11,
   "metadata": {},
   "outputs": [
    {
     "name": "stdout",
     "output_type": "stream",
     "text": [
      "Unique style code:  Code    570\n",
      "dtype: int64\n",
      "Saved unique_style_codes.csv.\n"
     ]
    }
   ],
   "source": [
    "import pandas as pd\n",
    "\n",
    "# Read the CSV file\n",
    "input_file = 'data.csv'  # Replace with your actual file path\n",
    "df = pd.read_csv(input_file)\n",
    "\n",
    "# Extract unique style codes from 'STYLE NO.' column\n",
    "unique_styles = df['STYLE NO.'].unique()\n",
    "\n",
    "# Create a DataFrame with the unique style codes\n",
    "unique_styles_df = pd.DataFrame(unique_styles, columns=['Code'])\n",
    "\n",
    "unique_styles_df_sorted = unique_styles_df.sort_values(by='Code')\n",
    "\n",
    "\n",
    "# Save the unique style codes to a new CSV file\n",
    "output_file = 'unique_style_codes.csv'  # Replace with your desired output file path\n",
    "unique_styles_df_sorted.to_csv(output_file, index=False)\n",
    "print(\"Unique style code: \", unique_styles_df_sorted.count())\n",
    "\n",
    "print(f\"Saved {output_file}.\")"
   ]
  },
  {
   "cell_type": "code",
   "execution_count": null,
   "metadata": {},
   "outputs": [],
   "source": [
    "import pandas as pd\n",
    "import re\n",
    "# Read the CSV file\n",
    "input_file = 'data.csv'  # Replace with your actual file path\n",
    "df = pd.read_csv(input_file)\n",
    "\n",
    "\n",
    "# Select relevant columns: 'STYLE NO.' and 'COLOR'\n",
    "style_color_df = df[['STYLE NO.', 'COLOR']]\n",
    "# Remove duplicates to ensure unique style-color pairs\n",
    "unique_style_colors = style_color_df.drop_duplicates()\n",
    "\n",
    "unique_style_colors_sorted = unique_style_colors.sort_values(by='STYLE NO.')\n",
    "\n",
    "# Save the unique style-color pairs to a new CSV file\n",
    "output_file = 'unique_style_color_pairs.csv'  # Replace with your desired output file path\n",
    "unique_style_colors_sorted.to_csv(output_file, index=False)\n",
    "print(\"Unique style code: \", unique_style_colors_sorted.count())\n",
    "print(f\"Saved to {output_file}.\")\n"
   ]
  },
  {
   "cell_type": "code",
   "execution_count": null,
   "metadata": {},
   "outputs": [],
   "source": [
    "import pandas as pd\n",
    "\n",
    "# Read the CSV file\n",
    "input_file = 'data.csv'  # Replace with your actual file path\n",
    "df = pd.read_csv(input_file)\n",
    "\n",
    "# Select relevant columns: 'STYLE NO.', 'COLOR', and 'QUANTITY'\n",
    "style_color_df = df[['STYLE NO.', 'COLOR', 'QUANTITY']]\n",
    "def clean_element(element):\n",
    "    if isinstance(element, str):\n",
    "        cleaned = re.sub(r'[ /_-]', '', element)\n",
    "        # Convert to title case\n",
    "        return cleaned.title()\n",
    "    else:\n",
    "        print(f\"The {element} is not a string.\")\n",
    "        return \"\"\n",
    "\n",
    "style_color_df['COLOR'] = style_color_df['COLOR'].apply(clean_element)\n",
    "\n",
    "# Convert the 'QUANTITY' column to numeric, coerce errors to NaN (non-numeric values will become NaN)\n",
    "style_color_df['QUANTITY'] = pd.to_numeric(style_color_df['QUANTITY'], errors='coerce')\n",
    "\n",
    "# Replace NaN values in 'QUANTITY' with 0 (assuming that non-numeric values should be treated as 0)\n",
    "style_color_df['QUANTITY'].fillna(0, inplace=True)\n",
    "\n",
    "# Group by 'STYLE NO.' and 'COLOR', and sum the 'QUANTITY' for each pair\n",
    "grouped_style_colors = style_color_df.groupby(['STYLE NO.', 'COLOR']).agg({'QUANTITY': 'sum'}).reset_index()\n",
    "\n",
    "# Sort the result by 'STYLE NO.'\n",
    "grouped_style_colors_sorted = grouped_style_colors.sort_values(by='STYLE NO.')\n",
    "\n",
    "# Save the grouped data to a new CSV file\n",
    "output_file = 'style_color_quantity_sum.csv'  # Replace with your desired output file path\n",
    "grouped_style_colors_sorted.to_csv(output_file, index=False)\n",
    "\n",
    "# Output results\n",
    "print(f\"Unique style-color pairs with quantity sum: {grouped_style_colors_sorted.shape[0]}\")\n",
    "print(f\"Saved to {output_file}.\")\n"
   ]
  },
  {
   "cell_type": "code",
   "execution_count": 44,
   "metadata": {},
   "outputs": [
    {
     "name": "stdout",
     "output_type": "stream",
     "text": [
      "Updated CSV with colors saved to: new_s3_url.csv\n"
     ]
    }
   ],
   "source": [
    "import pandas as pd\n",
    "import re\n",
    "\n",
    "# File paths\n",
    "input_csv_path = 's3_urls.csv'  # Replace with the path to your input CSV\n",
    "output_csv_path = 'new_s3_url.csv'  # Replace with the path to save the output CSV\n",
    "\n",
    "# Function to extract color between the first and second underscores\n",
    "def extract_color_from_pattern(product_name):\n",
    "    # Extract the substring between the first and second underscores\n",
    "    match = re.search(r'_(.*?)_', product_name)\n",
    "    if match:\n",
    "        return match.group(1)\n",
    "    return None\n",
    "\n",
    "# Read the CSV file\n",
    "df = pd.read_csv(input_csv_path)\n",
    "def clean_element(element):\n",
    "    # Remove special characters: space, /, _, -\n",
    "    cleaned = re.sub(r'[ /_-]', '', element)\n",
    "    # Convert to title case\n",
    "    return cleaned.title()\n",
    "# Apply the function to the 'product_name' column and create a new column 'color'\n",
    "df['color'] = df['product_name'].apply(extract_color_from_pattern)\n",
    "df['color'] = df['color'].apply(clean_element)\n",
    "\n",
    "# Save the updated dataframe (with the new 'color' column) to a new CSV\n",
    "df.to_csv(output_csv_path, index=False)\n",
    "\n",
    "print(f\"Updated CSV with colors saved to: {output_csv_path}\")\n"
   ]
  },
  {
   "cell_type": "code",
   "execution_count": 49,
   "metadata": {},
   "outputs": [
    {
     "name": "stdout",
     "output_type": "stream",
     "text": [
      "152\n",
      "['Blackred', 'Apricot', 'Pink', 'Black', nan, 'Aqua', 'Ivory', 'White', 'Whiteivory', 'Whitenude', 'Burgundy', 'Whitered', 'Whitenavy', 'Whiteburgundy', 'Lavender', 'Applered', 'Ivorychampagne', 'Champagneivory', 'Offwhite', 'Skyblue', 'Perri', 'Orange', 'Sage', 'Blackfuchsia', 'Blacklilac', 'Blacklime', 'Skyblueblack', 'Fuchsia', 'Lilac', 'Blackskyblue', 'Melon', 'Yellow', 'Green', 'Brown', 'Ivoryblack', 'Ivorynavy', 'Navyivory', 'Truffle', 'Silver', 'Sangria', 'Royal', 'Purple', 'Pool', 'Claret', 'Brownchampagne', 'Champagnenavy', 'Coral', 'Trufflewhite', 'Navy', 'Lilacwhite', 'Purplewhite', 'Lightgreen', 'Violet', 'Red', 'Wine', 'Champagne', 'Burntorange', 'Dustypink', 'Beige', 'Midnightblue', 'Olivegreen', 'Coffee', 'Gold', 'Blackgrey', 'Grey', 'Sunshine', 'Sunrise', 'Persimmon', 'Banana', 'Mint', 'Pistachio', 'Darkceladon', 'Charcoal', 'Kiwi', 'Victorialilac', 'Peachfizz', 'Peach', 'Darkpink', 'Teal', 'Jade', 'Blue', 'Darklilac', 'Cafe', 'Watermelon', 'Whiteblack', 'Platinum', 'Appleredwhite', 'Peacock', 'Plum', 'Turquoise', 'Seablack', 'Victoria', 'Emerald', 'Purpleblack', 'Nude', 'Whiteblue', 'Bluepink', 'Blacknude', 'Bluefuchsia', 'Print', 'Turquoisegreen', 'Blacksilver', 'Powderblue', 'Biscotti', 'Purplegold', 'Navynude', 'Nudeivory', 'Poolwhite', 'Bottlegreen', 'Gunmetal', 'Midnight', 'Royalblue', 'Peacockgreen', 'Tiffany', 'Jetcobalt', 'Berry', 'Blackgunmetal', 'Jet', 'Rosequartz', 'Rose', 'Blueblack', 'Blush', 'Blackburgundy', 'Floralprint', 'Cobalt', 'Dirtyrose', 'Dustyrose', 'Babyblue', 'Whiteprint', 'Rainbow', 'Lightblue', 'Blackgreen', 'Redblack', 'Blackgold', 'Greenpurple', 'Multi', 'Peal', 'Blackprint', 'Purpleprint', 'Goldblack', 'Ivoryprint', 'Nudeivy', 'Mud', 'Redprint', 'Navyprint', 'Cherry', 'Mauve', 'Ivorynude', 'Lightgold', 'Banana(Flower)', 'Periwinkle', 'Bananayellow', 'Darkgreen']\n"
     ]
    }
   ],
   "source": [
    "import pandas as pd\n",
    "\n",
    "# Load the CSV files\n",
    "sheet1 = pd.read_csv('style_color_quantity_sum.csv')\n",
    "sheet2 = pd.read_csv('new_s3_url.csv')\n",
    "\n",
    "# Create a new column 'Photo' in sheet1, set to 'yes' if both conditions match, else 'no'\n",
    "sheet1['Photo'] = sheet1.apply(lambda row: 'yes' if ((row['STYLE NO.'] in sheet2['Code'].values) and (row['COLOR'] in sheet2['color'].values)) else 'no', axis=1)\n",
    "\n",
    "# Save the result to a new CSV file\n",
    "sheet1.to_csv('sheet1_with_photo.csv', index=False)\n",
    "# print(sheet1['COLOR'].nunique())\n",
    "# print(sheet1['COLOR'].unique().tolist())\n",
    "\n",
    "# print(\"File saved as 'sheet1_with_photo.csv'\")\n"
   ]
  },
  {
   "cell_type": "code",
   "execution_count": 45,
   "metadata": {},
   "outputs": [
    {
     "name": "stdout",
     "output_type": "stream",
     "text": [
      "All files from CSV are present in the folder.\n"
     ]
    }
   ],
   "source": [
    "import os\n",
    "import pandas as pd\n",
    "\n",
    "# Define paths\n",
    "csv_file = 'new_s3_url.csv'  # Replace with your CSV file path\n",
    "folder_path = '../../images/shopify_images'  # Replace with your folder path\n",
    "\n",
    "# Read the product_name column from the CSV\n",
    "df = pd.read_csv(csv_file)\n",
    "csv_files = df['product_name'].tolist()\n",
    "\n",
    "# Get the list of files in the folder\n",
    "folder_files = os.listdir(folder_path)\n",
    "\n",
    "\n",
    "\n",
    "# Find files in CSV but not in the folder\n",
    "missing_files = [file for file in csv_files if file not in folder_files]\n",
    "\n",
    "# Print or save the missing files\n",
    "if missing_files:\n",
    "    print(\"Files in CSV but not in the folder:\")\n",
    "    for file in missing_files:\n",
    "        print(file)\n",
    "else:\n",
    "    print(\"All files from CSV are present in the folder.\")\n",
    "\n",
    "# print(len(missing_files), missing_files)"
   ]
  },
  {
   "cell_type": "code",
   "execution_count": null,
   "metadata": {},
   "outputs": [],
   "source": [
    "# import pandas as pd\n",
    "\n",
    "# # Define paths\n",
    "# csv_file = 'new_s3_url.csv'  # Replace with your CSV file path\n",
    "\n",
    "# # Read the product_name column from the CSV\n",
    "# df = pd.read_csv(csv_file)\n",
    "# list_n = df['product_name'].tolist()\n",
    "# print(len(list_n))\n",
    "# set_n = set(list_n)\n",
    "# print(len(set_n))\n",
    "\n",
    "# from collections import Counter\n",
    "\n",
    "# # Example list\n",
    "# # Count occurrences of each item in the list\n",
    "# occurrences = Counter(list_n)\n",
    "\n",
    "# # Print the occurrences\n",
    "# print(occurrences)\n",
    "# more_than_one = {item: count for item, count in occurrences.items() if count > 1}\n",
    "# print(more_than_one)"
   ]
  },
  {
   "cell_type": "code",
   "execution_count": 1,
   "metadata": {},
   "outputs": [
    {
     "name": "stdout",
     "output_type": "stream",
     "text": [
      "[]\n"
     ]
    }
   ],
   "source": [
    "import os\n",
    "folder_path = '../../images/shopify_images'  # Replace with your folder path\n",
    "\n",
    "# Get the list of files in the folder\n",
    "folder_files = os.listdir(folder_path)\n",
    "\n",
    "copy_files = [file for file in folder_files if \"copy\" in file.lower()]\n",
    "print(copy_files)"
   ]
  },
  {
   "cell_type": "code",
   "execution_count": 4,
   "metadata": {},
   "outputs": [
    {
     "name": "stdout",
     "output_type": "stream",
     "text": [
      "Dictionary has been saved to code_color_mapping.json\n"
     ]
    }
   ],
   "source": [
    "import os\n",
    "import json\n",
    "\n",
    "def extract_code_and_color(filename):\n",
    "    # Split the filename by underscores\n",
    "    parts = filename.split('_')\n",
    "\n",
    "    # Extract code (part before the first underscore)\n",
    "    code = parts[0]\n",
    "\n",
    "    # Extract color (part between the first and second underscore)\n",
    "    color = parts[1]\n",
    "\n",
    "    return code, color\n",
    "\n",
    "def process_images(folder_path):\n",
    "    code_color_dict = {}\n",
    "\n",
    "    # Loop through all files in the folder\n",
    "    for filename in os.listdir(folder_path):\n",
    "        if filename.endswith(\".jpg\") or filename.endswith(\".jpeg\") or filename.endswith(\".png\"):\n",
    "            # Extract code and color from the filename\n",
    "            code, color = extract_code_and_color(filename)\n",
    "\n",
    "            # Ensure uniqueness of colors by using a set\n",
    "            if code not in code_color_dict:\n",
    "                code_color_dict[code] = set()  # Create a set to store unique colors\n",
    "\n",
    "            code_color_dict[code].add(color)  # Add color to the set, ensuring uniqueness\n",
    "\n",
    "    # Convert the sets back to lists for the final output\n",
    "    code_color_dict = {code: list(colors) for code, colors in code_color_dict.items()}\n",
    "\n",
    "    return code_color_dict\n",
    "\n",
    "def save_dict_to_json(data, output_file):\n",
    "    # Save the dictionary to a JSON file\n",
    "    with open(output_file, 'w') as json_file:\n",
    "        json.dump(data, json_file, indent=4)  # Use indent for pretty printing\n",
    "\n",
    "# Example usage:\n",
    "folder_path = \"../../images/shopify_images/\"  # Replace with your folder path\n",
    "output_file = \"code_color_mapping.json\"  # Name of the JSON file\n",
    "\n",
    "# Process the images and get the dictionary\n",
    "code_color_mapping = process_images(folder_path)\n",
    "\n",
    "# Save the dictionary to a JSON file\n",
    "save_dict_to_json(code_color_mapping, output_file)\n",
    "\n",
    "# Confirmation message\n",
    "print(f\"Dictionary has been saved to {output_file}\")"
   ]
  },
  {
   "cell_type": "code",
   "execution_count": 3,
   "metadata": {},
   "outputs": [
    {
     "name": "stdout",
     "output_type": "stream",
     "text": [
      "Number of unique style codes: 342\n",
      "Results saved to unique_styles_count.csv\n"
     ]
    }
   ],
   "source": [
    "import os\n",
    "import re\n",
    "from collections import defaultdict\n",
    "import csv\n",
    "\n",
    "# Regular expression to match style codes like 'E1234' at the beginning of the filename\n",
    "def find_unique_styles(image_folder):\n",
    "    style_count = defaultdict(int)  # To store style counts\n",
    "\n",
    "    # Loop through all files in the image folder\n",
    "    for image_file in os.listdir(image_folder):\n",
    "        # Check if the file is an image (png, jpg, jpeg)\n",
    "        if image_file.endswith(('.png', '.jpg', '.jpeg')):\n",
    "            # Extract style code before the first underscore\n",
    "            style_code = image_file.split('_')[0]\n",
    "            # Increment count for this style\n",
    "            style_count[style_code] += 1\n",
    "\n",
    "    return style_count\n",
    "\n",
    "def save_to_csv(style_count, output_file):\n",
    "    # Write the unique styles and their counts to a CSV file\n",
    "    with open(output_file, mode='w', newline='') as file:\n",
    "        writer = csv.writer(file)\n",
    "        writer.writerow([\"Style Number\", \"Image Count\"])  # CSV Header\n",
    "\n",
    "        for style, count in style_count.items():\n",
    "            writer.writerow([style, count])\n",
    "\n",
    "    print(f\"Results saved to {output_file}\")\n",
    "\n",
    "def main():\n",
    "    # Specify the folder containing the images\n",
    "    image_folder = \"../../images/shopify_images/\"\n",
    "\n",
    "    # Output file for saving results\n",
    "    output_file = \"unique_styles_count.csv\"\n",
    "\n",
    "    # Find unique styles and their counts\n",
    "    style_count = find_unique_styles(image_folder)\n",
    "\n",
    "    print(f\"Number of unique style codes: {len(style_count)}\")\n",
    "\n",
    "\n",
    "    # Save results to a CSV file\n",
    "    save_to_csv(style_count, output_file)\n",
    "\n",
    "if __name__ == \"__main__\":\n",
    "    main()\n"
   ]
  }
 ],
 "metadata": {
  "kernelspec": {
   "display_name": "load-data-test",
   "language": "python",
   "name": "python3"
  },
  "language_info": {
   "codemirror_mode": {
    "name": "ipython",
    "version": 3
   },
   "file_extension": ".py",
   "mimetype": "text/x-python",
   "name": "python",
   "nbconvert_exporter": "python",
   "pygments_lexer": "ipython3",
   "version": "3.12.3"
  }
 },
 "nbformat": 4,
 "nbformat_minor": 2
}
