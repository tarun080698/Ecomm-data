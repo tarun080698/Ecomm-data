{
 "cells": [
  {
   "cell_type": "code",
   "execution_count": 23,
   "metadata": {},
   "outputs": [
    {
     "name": "stdout",
     "output_type": "stream",
     "text": [
      "559\n",
      "Selected columns have been written to ../../scripts/catalog/filtered_data.csv\n"
     ]
    }
   ],
   "source": [
    "import pandas as pd\n",
    "\n",
    "input_file = '../../data/sheets/main_data.csv'\n",
    "df = pd.read_csv(input_file)\n",
    "\n",
    "# Rename specific columns\n",
    "df = df.rename(columns={\n",
    "    'STYLE NO.': 'Code',\n",
    "    'SIZE_US': 'Size',\n",
    "    'COLOR': 'Color',\n",
    "    'QUANTITY': 'Quantity',\n",
    "    'BRAND NAME': 'Brand'\n",
    "})\n",
    "\n",
    "# Define validation criteria for each column\n",
    "\n",
    "\n",
    "def validate_row(row):\n",
    "    # Check for missing or blank values\n",
    "    if pd.isnull(row['Brand']) or pd.isnull(row['Code']) or pd.isnull(row['Color']) or pd.isnull(row['Quantity']) or pd.isnull(row['Size']):\n",
    "        return False\n",
    "    if row['Brand'].strip() == '' or row['Code'].strip() == '' or row['Color'].strip() == '':\n",
    "        return False\n",
    "\n",
    "    # Check for correct data types\n",
    "    if not isinstance(row['Brand'], str) or not isinstance(row['Code'], str) or not isinstance(row['Color'], str):\n",
    "        return False\n",
    "    try:\n",
    "        float(row['Quantity'])\n",
    "        float(row['Size'])\n",
    "    except ValueError:\n",
    "        return False\n",
    "\n",
    "    return True\n",
    "\n",
    "\n",
    "# Apply validation to each row\n",
    "valid_rows = df.apply(validate_row, axis=1)\n",
    "\n",
    "# Filter the DataFrame to retain only valid rows\n",
    "filtered_df = df[valid_rows]\n",
    "\n",
    "# Select the specified columns based on the new names\n",
    "selected_columns = ['Brand', 'Code', 'Color', 'Quantity', 'Size']\n",
    "new_df = filtered_df[selected_columns]\n",
    "\n",
    "# Write the filtered data to a new CSV file\n",
    "# output_file = '../../scripts/catalog/filtered_data.csv'\n",
    "output_file = '../../scripts/catalog/filtered_data.csv'\n",
    "new_df.to_csv(output_file, index=False)\n",
    "\n",
    "# Print number of unique Codes\n",
    "print(new_df['Code'].nunique())\n",
    "print(f\"Selected columns have been written to {output_file}\")"
   ]
  },
  {
   "cell_type": "code",
   "execution_count": 24,
   "metadata": {},
   "outputs": [
    {
     "name": "stdout",
     "output_type": "stream",
     "text": [
      "Number of unique Codes in the original DataFrame: 559\n",
      "Number of unique Codes after aggregation: 559\n"
     ]
    }
   ],
   "source": [
    "import pandas as pd\n",
    "\n",
    "# Load the original CSV file\n",
    "df = pd.read_csv(\"../../scripts/catalog/filtered_data.csv\")\n",
    "\n",
    "# Ensure Quantity is numeric, coercing errors to NaN\n",
    "df['Quantity'] = pd.to_numeric(df['Quantity'], errors='coerce')\n",
    "\n",
    "# Fill NaN values in Quantity with 0 (or handle as needed)\n",
    "df['Quantity'] = df['Quantity'].fillna(0)\n",
    "\n",
    "# First aggregation: Sum quantities based on Code, Color, and Size\n",
    "aggregated_df = df.groupby(['Code', 'Color', 'Size'], as_index=False).agg({\n",
    "    'Brand': 'first',  # Assuming you want to keep the first Brand name found\n",
    "    'Quantity': 'sum'\n",
    "})\n",
    "\n",
    "# Print the number of unique codes after aggregation\n",
    "print(f\"Number of unique Codes in the original DataFrame: {\n",
    "      df['Code'].nunique()}\")\n",
    "print(f\"Number of unique Codes after aggregation: {\n",
    "      aggregated_df['Code'].nunique()}\")\n",
    "\n",
    "# Write the aggregated data to a new CSV file\n",
    "# aggregated_df.to_csv('../../data/sheets/step_2_output.csv', index=False)\n",
    "aggregated_df.to_csv('../../scripts/catalog/grouped_data.csv', index=False)"
   ]
  },
  {
   "cell_type": "code",
   "execution_count": 25,
   "metadata": {},
   "outputs": [
    {
     "name": "stdout",
     "output_type": "stream",
     "text": [
      "50\n",
      "Number of rows after filtering: 1349\n",
      "50\n",
      "Codes not found in the CSV: []\n"
     ]
    }
   ],
   "source": [
    "import pandas as pd\n",
    "\n",
    "# List of codes to filter\n",
    "code_list = [\n",
    "    'F570', 'F1116', 'B8865', 'B8998', 'E1270', 'E1412', 'E1582',\n",
    "    'E1168', 'E1264', 'E1295', 'E1696', 'E1799', 'E1531', 'E1013',\n",
    "    'E1260', 'E1729', 'E1657', 'B9000', 'E1463', 'E1379', 'B8608',\n",
    "    'E1340', 'E1520', 'E1502', 'E1391', 'E1730', 'E1420',\n",
    "    'E1421', 'E1796', 'E1663', 'AA9270', 'B8808', 'E1387', 'E1544',\n",
    "    'E1371', 'E2107', 'E1285', 'E1581', 'E2106', 'E1573', 'E1546',\n",
    "    'E1822', 'E2253', 'AA9315', 'E2227', 'E2545', 'E1194', 'E1931', 'E2027', 'AA9308'\n",
    "]\n",
    "\n",
    "print(len(set(code_list)))\n",
    "\n",
    "# Load the CSV file\n",
    "input_file = ''\n",
    "df = pd.read_csv('../../scripts/catalog/grouped_data.csv')\n",
    "\n",
    "# Code\tColor\tSize\tBrand\tQuantity\n",
    "\n",
    "filtered_df = df[df['Code'].isin(code_list)]\n",
    "\n",
    "# Print the number of rows after filtering\n",
    "print(f\"Number of rows after filtering: {filtered_df.shape[0]}\")\n",
    "\n",
    "# Save the filtered DataFrame to a new CSV file\n",
    "output_file = '../../scripts/catalog/grouped_top_50.csv'\n",
    "filtered_df.to_csv(output_file, index=False)\n",
    "\n",
    "print(filtered_df['Code'].nunique())\n",
    "# Get the unique codes present in the CSV\n",
    "unique_codes_in_csv = df['Code'].unique()\n",
    "\n",
    "# Find codes that are in the code_list but not in the CSV\n",
    "codes_not_found = [code for code in code_list if code not in unique_codes_in_csv]\n",
    "print(f\"Codes not found in the CSV: {codes_not_found}\")\n"
   ]
  },
  {
   "cell_type": "code",
   "execution_count": 26,
   "metadata": {},
   "outputs": [
    {
     "name": "stdout",
     "output_type": "stream",
     "text": [
      "50\n"
     ]
    }
   ],
   "source": [
    "import pandas as pd\n",
    "\n",
    "# Load the CSV file\n",
    "input_file = '../../scripts/catalog/grouped_top_50.csv'\n",
    "df = pd.read_csv(input_file)\n",
    "\n",
    "# Group by 'Code' and aggregate 'Color' and 'Size'\n",
    "aggregated_df = df.groupby('Code').agg({\n",
    "    'Color': lambda x: ';'.join(sorted(x.unique())),\n",
    "    'Size': lambda x: ';'.join(sorted(str(i) for i in x.unique()))\n",
    "}).reset_index()\n",
    "\n",
    "# Print the result\n",
    "# print(aggregated_df)\n",
    "\n",
    "# Save the result to a new CSV file\n",
    "output_file = '../../scripts/catalog/final_data.csv'\n",
    "aggregated_df.to_csv(output_file, index=False)\n",
    "\n",
    "print(aggregated_df['Code'].nunique())"
   ]
  }
 ],
 "metadata": {
  "kernelspec": {
   "display_name": "load-data-test",
   "language": "python",
   "name": "python3"
  },
  "language_info": {
   "codemirror_mode": {
    "name": "ipython",
    "version": 3
   },
   "file_extension": ".py",
   "mimetype": "text/x-python",
   "name": "python",
   "nbconvert_exporter": "python",
   "pygments_lexer": "ipython3",
   "version": "3.12.3"
  }
 },
 "nbformat": 4,
 "nbformat_minor": 2
}
