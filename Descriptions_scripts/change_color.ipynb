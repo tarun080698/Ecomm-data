{
 "cells": [
  {
   "cell_type": "code",
   "execution_count": 4,
   "metadata": {},
   "outputs": [
    {
     "name": "stderr",
     "output_type": "stream",
     "text": [
      "I0000 00:00:1721922739.999818 5287636 check_gcp_environment_no_op.cc:29] ALTS: Platforms other than Linux and Windows are not supported\n"
     ]
    },
    {
     "name": "stdout",
     "output_type": "stream",
     "text": [
      "Processed: E1544_Black_1.png\n",
      "Processed: E1544_Red_1.png\n",
      "Processed: E1544_Black_3.png\n",
      "Processed: E1531_Purple_1.png\n",
      "Processed: E1544_Black_2.png\n"
     ]
    }
   ],
   "source": [
    "import os\n",
    "import cv2\n",
    "from google.cloud import vision_v1\n",
    "from google.cloud.vision_v1 import types\n",
    "from google.oauth2 import service_account\n",
    "\n",
    "# Set your Google Cloud credentials\n",
    "credentials = service_account.Credentials.from_service_account_file('/Users/njlalwani/Downloads/fiery-rarity-430115-b5-5cad704232f1.json')\n",
    "client = vision.ImageAnnotatorClient(credentials=credentials)\n",
    "\n",
    "# Function to extract color from filename\n",
    "def extract_color_from_filename(filename):\n",
    "    # Extract color information from filename (assuming format: code_color_num.ext)\n",
    "    basename = os.path.splitext(filename)[0]  # Remove extension\n",
    "    parts = basename.split('_')\n",
    "    \n",
    "    if len(parts) < 2:\n",
    "        return None  # If filename format doesn't match expected\n",
    "    \n",
    "    color_name = parts[1]  # Assuming color information is in the second part\n",
    "    \n",
    "    # Convert color name to BGR format (example mapping, adjust as per your needs)\n",
    "    color_map = {\n",
    "        'red': (0, 0, 255),\n",
    "        'blue': (255, 0, 0),\n",
    "        'green': (0, 255, 0),\n",
    "        # Add more colors as needed\n",
    "    }\n",
    "    \n",
    "    return color_map.get(color_name.lower())\n",
    "\n",
    "# Function to change dress colors using OpenCV\n",
    "def change_dress_colors(image_path, output_path, target_color):\n",
    "    image = cv2.imread(image_path)\n",
    "    \n",
    "    # Define a mask based on color ranges you want to change\n",
    "    lower_bound = (target_color.blue - 20, target_color.green - 20, target_color.red - 20)\n",
    "    upper_bound = (target_color.blue + 20, target_color.green + 20, target_color.red + 20)\n",
    "    \n",
    "    mask = cv2.inRange(image, lower_bound, upper_bound)\n",
    "    \n",
    "    # Change color (here we set it to red as an example)\n",
    "    image[mask > 0] = (0, 0, 255)  # BGR format for OpenCV\n",
    "    \n",
    "    # Save the modified image\n",
    "    cv2.imwrite(output_path, image)\n",
    "\n",
    "# Directory containing your dress catalog images\n",
    "input_directory = 'test_photos'\n",
    "\n",
    "# Output directory for modified images\n",
    "output_directory = 'changed_photos'\n",
    "\n"
   ]
  }
 ],
 "metadata": {
  "kernelspec": {
   "display_name": "base",
   "language": "python",
   "name": "python3"
  },
  "language_info": {
   "codemirror_mode": {
    "name": "ipython",
    "version": 3
   },
   "file_extension": ".py",
   "mimetype": "text/x-python",
   "name": "python",
   "nbconvert_exporter": "python",
   "pygments_lexer": "ipython3",
   "version": "3.11.9"
  }
 },
 "nbformat": 4,
 "nbformat_minor": 2
}
