{
 "cells": [
  {
   "cell_type": "code",
   "execution_count": 10,
   "metadata": {},
   "outputs": [],
   "source": [
    "import os\n",
    "import pandas as pd\n",
    "import openai\n",
    "from google.cloud import vision\n",
    "import io\n",
    "import time"
   ]
  },
  {
   "cell_type": "code",
   "execution_count": 11,
   "metadata": {},
   "outputs": [],
   "source": [
    "\n",
    "# Set up your OpenAI API key\n",
    "openai.api_key = 'sk-proj-hIOossFdrZSyM5ixG4vPT3BlbkFJv9bTi0HWRujvSlWCnsIW'\n"
   ]
  },
  {
   "cell_type": "code",
   "execution_count": 12,
   "metadata": {},
   "outputs": [
    {
     "name": "stderr",
     "output_type": "stream",
     "text": [
      "I0000 00:00:1721846436.377739 4881819 check_gcp_environment_no_op.cc:29] ALTS: Platforms other than Linux and Windows are not supported\n"
     ]
    }
   ],
   "source": [
    "\n",
    "# Set up your Google Cloud Vision API client\n",
    "os.environ['GOOGLE_APPLICATION_CREDENTIALS'] = '/Users/njlalwani/Downloads/fiery-rarity-430115-b5-5cad704232f1.json'\n",
    "client = vision.ImageAnnotatorClient()\n"
   ]
  },
  {
   "cell_type": "code",
   "execution_count": 13,
   "metadata": {},
   "outputs": [],
   "source": [
    "# Extract Lables from Vision API\n",
    "\n",
    "def get_image_labels(image_path):\n",
    "    \"\"\"Use Google Vision API to get labels from the image.\"\"\"\n",
    "    try:\n",
    "        with io.open(image_path, 'rb') as image_file:\n",
    "            content = image_file.read()\n",
    "\n",
    "        image = vision.Image(content=content)\n",
    "        response = client.label_detection(image=image)\n",
    "        labels = response.label_annotations\n",
    "\n",
    "        return [label.description for label in labels]\n",
    "    except Exception as e:\n",
    "        print(f\"Error processing image {image_path}: {e}\")\n",
    "        return []\n"
   ]
  },
  {
   "cell_type": "code",
   "execution_count": 14,
   "metadata": {},
   "outputs": [],
   "source": [
    "\n",
    "def generate_prompt_from_labels(labels, code, color):\n",
    "    \"\"\"Generate a prompt for GPT-4 based on image labels.\"\"\"\n",
    "    prompt = (\n",
    "        f\"Product Code: {code}\\n\"\n",
    "        f\"Product Color: {color}\\n\"\n",
    "        f\"Image Labels: {', '.join(labels)}\\n\\n\"\n",
    "        \"Generate the following:\\n\"\n",
    "        \"- Long Description(information rich description to display on the website aronud 50 words\\n\"\n",
    "        \"- Short Description(small 20 word description in artsy style to display on the catalogue)\\n\"\n",
    "        \"- Keywords(precise things that one might type to find this in a search)\\n\"\n",
    "        \"- Tags(one word of info for filtering purposes[colour,code,long/short etc])\\n\\n\"\n",
    "        \"Try not to use ':' in the sentences but you can use it just as a separator.\"\n",
    "    )\n",
    "    return prompt\n"
   ]
  },
  {
   "cell_type": "code",
   "execution_count": 15,
   "metadata": {},
   "outputs": [],
   "source": [
    "\n",
    "def generate_product_info(prompt):\n",
    "    \"\"\"Generate product information using GPT-4.\"\"\"\n",
    "    response = openai.ChatCompletion.create(\n",
    "        model=\"gpt-4\",\n",
    "        messages=[\n",
    "            {\"role\": \"system\", \"content\": \"You are a helpful assistant.\"},\n",
    "            {\"role\": \"user\", \"content\": prompt}\n",
    "        ],\n",
    "        max_tokens=250\n",
    "    )\n",
    "\n",
    "    response_text = response.choices[0].message['content'].strip()\n",
    "    print(\"API Response:\", response_text)  # Debugging line\n",
    "\n",
    "    long_description = short_description = keywords = tags = \"N/A\"\n",
    "    \n",
    "    try:\n",
    "        response_lines = response_text.split('\\n')\n",
    "        \n",
    "        for line in response_lines:\n",
    "            if 'Long Description' in line:\n",
    "                long_description = line.split(':: ', 1)[1] if ':: ' in line else \"N/A\"\n",
    "            elif 'Short Description' in line:\n",
    "                short_description = line.split(':: ', 1)[1] if ':: ' in line else \"N/A\"\n",
    "            elif 'Keywords' in line:\n",
    "                keywords = line.split(':: ', 1)[1] if ':: ' in line else \"N/A\"\n",
    "            elif 'Tags' in line:\n",
    "                tags = line.split(':: ', 1)[1] if ':: ' in line else \"N/A\"\n",
    "    except Exception as e:\n",
    "        print(f\"Error parsing response: {e}\")\n",
    "    \n",
    "    return long_description, short_description, keywords, tags\n"
   ]
  },
  {
   "cell_type": "code",
   "execution_count": 16,
   "metadata": {},
   "outputs": [],
   "source": [
    "\n",
    "def process_images(image_directory, output_csv, batch_size=10):\n",
    "    \"\"\"Process images in the directory and save product information to a CSV file.\"\"\"\n",
    "    # Load existing data if the CSV exists\n",
    "    if os.path.exists(output_csv):\n",
    "        df = pd.read_csv(output_csv)\n",
    "    else:\n",
    "        df = pd.DataFrame(columns=['Filename', 'Long Description', 'Short Description', 'Keywords', 'Tags'])\n",
    "\n",
    "    # Get list of image files with num=1 in filename\n",
    "    image_files = [f for f in os.listdir(image_directory) if f.endswith(('.jpg', '.png')) and '_1.' in f]\n",
    "\n",
    "    for i in range(0, len(image_files), batch_size):\n",
    "        batch_files = image_files[i:i + batch_size]\n",
    "        new_data = []\n",
    "        \n",
    "        for image_file in batch_files:\n",
    "            image_path = os.path.join(image_directory, image_file)\n",
    "            code, color, num_ext = image_file.split('_')[0], image_file.split('_')[1], image_file.split('_')[2]\n",
    "            num, ext = num_ext.split('.')\n",
    "\n",
    "            # Extract labels\n",
    "            labels = get_image_labels(image_path)\n",
    "\n",
    "            # Generate GPT-4 prompt and get product info\n",
    "            prompt = generate_prompt_from_labels(labels, code, color)\n",
    "            long_description, short_description, keywords, tags = generate_product_info(prompt)\n",
    "\n",
    "            # Add to new_data list\n",
    "            new_data.append({\n",
    "                'Filename': image_file,\n",
    "                'Long Description': long_description,\n",
    "                'Short Description': short_description,\n",
    "                'Keywords': keywords,\n",
    "                'Tags': tags\n",
    "            })\n",
    "        \n",
    "        # Concatenate new data to the existing DataFrame\n",
    "        df = pd.concat([df, pd.DataFrame(new_data)], ignore_index=True)\n",
    "\n",
    "        # Save intermediate results to CSV\n",
    "        df.to_csv(output_csv, index=False)\n",
    "        \n",
    "        print(f\"Processed batch {i // batch_size + 1} / {len(image_files) // batch_size + 1}\")\n",
    "\n",
    "        # Pause mechanism\n",
    "        user_input = input(\"Press Enter to continue to the next batch or type 'pause' to pause: \")\n",
    "        if user_input.lower() == 'pause':\n",
    "            print(\"Pausing... Type 'resume' to continue.\")\n",
    "            while input().lower() != 'resume':\n",
    "                time.sleep(1)\n"
   ]
  },
  {
   "cell_type": "code",
   "execution_count": 17,
   "metadata": {},
   "outputs": [
    {
     "name": "stdout",
     "output_type": "stream",
     "text": [
      "API Response: Long Description: Embrace elegance with our sleek E1544 dress. Featured in a classic black shade, this one-piece sheath dress enhances your silhouette perfectly. Its chic design boasts a neat waistline, artful neck, and streamlined sleeves that add an air of sophistication for day or night.\n",
      "\n",
      "Short Description: Classic black E1544 sheath dress - Designed for a graceful silhouette. Perfect fusion of style and elegance. \n",
      "\n",
      "Keywords: black sheath dress, one-piece outfit, E1544, day dress, waist-fit, sleeve dress, elegant arm style, human body dress, stylish neck\n",
      "\n",
      "Tags: black, E1544, Long, sheath-dress, one-piece, day-dress, sleeve, waist, neck\n",
      "Processed batch 1 / 4\n",
      "API Response: Long Description: This ravishing red sheath dress, product code E1544, is designed with impeccable attention to modern tailoring. Perfect for daytime affairs, it's sculpted to gracefully adorn the human body. With a flattering neck, shoulder, and arm details, it's a single-piece garment that personifies effortless elegance.\n",
      "\n",
      "Short Description: A flirtatiously bold, red sheath dress; daytime luxury personified. Embrace style with E1544. \n",
      "\n",
      "Keywords: Red Sheath dress, Day dress, One-piece dress, Elegant day wear, Product E1544\n",
      "\n",
      "Tags: Red, E1544, Long, Dress\n",
      "Processed batch 2 / 4\n",
      "Pausing... Type 'resume' to continue.\n",
      "API Response: Long Description: The E1531 product is a captivating purple dress, tailored in captivating one-piece design. This garment majestically highlights the shape of the arm, neck, joint, and shoulder, making it ideal for showing off your unique style and elegant taste in simple yet sophisticated fashion pieces.\n",
      "\n",
      "Short Description: Graceful E1531 Purple Day dress, exquisitely tailored. Showcases the shoulder, arm and neck in a striking manner.\n",
      "\n",
      "Keywords: Purple dress, E1531, one-piece garment, day dress, arm joint, shoulder neckline dress, elegant body-conforming dress.\n",
      "\n",
      "Tags: Purple, E1531, Long, One-piece, Dress, Day-dress, Shoulder, Arm, Neck.\n",
      "Processed batch 3 / 4\n"
     ]
    }
   ],
   "source": [
    "\n",
    "# Directory containing your images\n",
    "image_directory = 'test_photos'\n",
    "output_csv = 'product_info.csv'\n",
    "batch_size = 1\n",
    "\n",
    "process_images(image_directory, output_csv, batch_size)\n",
    "\n"
   ]
  }
 ],
 "metadata": {
  "kernelspec": {
   "display_name": "base",
   "language": "python",
   "name": "python3"
  },
  "language_info": {
   "codemirror_mode": {
    "name": "ipython",
    "version": 3
   },
   "file_extension": ".py",
   "mimetype": "text/x-python",
   "name": "python",
   "nbconvert_exporter": "python",
   "pygments_lexer": "ipython3",
   "version": "3.11.9"
  }
 },
 "nbformat": 4,
 "nbformat_minor": 2
}
