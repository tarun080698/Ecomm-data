{
 "cells": [
  {
   "cell_type": "code",
   "execution_count": 11,
   "metadata": {},
   "outputs": [
    {
     "name": "stdout",
     "output_type": "stream",
     "text": [
      "Copied 482 files to missing_files\n"
     ]
    }
   ],
   "source": [
    "import os\n",
    "import pandas as pd\n",
    "import shutil\n",
    "\n",
    "def extract_filenames_from_folder(folder_path):\n",
    "    \"\"\"\n",
    "    Extracts all filenames from the given folder.\n",
    "\n",
    "    Parameters:\n",
    "    folder_path (str): Path to the folder.\n",
    "\n",
    "    Returns:\n",
    "    list: List of filenames in the folder.\n",
    "    \"\"\"\n",
    "    filenames = [f for f in os.listdir(folder_path) if os.path.isfile(os.path.join(folder_path, f))]\n",
    "    return filenames\n",
    "\n",
    "def extract_filenames_from_csv(csv_path, column_name):\n",
    "    \"\"\"\n",
    "    Extracts filenames from the specified column in a CSV file.\n",
    "\n",
    "    Parameters:\n",
    "    csv_path (str): Path to the CSV file.\n",
    "    column_name (str): Name of the column containing filenames.\n",
    "\n",
    "    Returns:\n",
    "    list: List of filenames from the CSV column.\n",
    "    \"\"\"\n",
    "    df = pd.read_csv(csv_path)\n",
    "    return df[column_name].tolist()\n",
    "\n",
    "def compare_filenames(folder_filenames, csv_filenames):\n",
    "    \"\"\"\n",
    "    Compares filenames from the folder and CSV, identifying those not in the CSV.\n",
    "\n",
    "    Parameters:\n",
    "    folder_filenames (list): List of filenames from the folder.\n",
    "    csv_filenames (list): List of filenames from the CSV.\n",
    "\n",
    "    Returns:\n",
    "    list: List of filenames present in the folder but not in the CSV.\n",
    "    \"\"\"\n",
    "    return [f for f in folder_filenames if f not in csv_filenames]\n",
    "\n",
    "def copy_files_to_new_directory(file_list, source_folder, destination_folder):\n",
    "    \"\"\"\n",
    "    Copies specified files from the source folder to the destination folder.\n",
    "\n",
    "    Parameters:\n",
    "    file_list (list): List of filenames to copy.\n",
    "    source_folder (str): Path to the source folder.\n",
    "    destination_folder (str): Path to the destination folder.\n",
    "    \"\"\"\n",
    "    if not os.path.exists(destination_folder):\n",
    "        os.makedirs(destination_folder)\n",
    "    for file_name in file_list:\n",
    "        shutil.copy(os.path.join(source_folder, file_name), os.path.join(destination_folder, file_name))\n",
    "\n",
    "def main(folder_path, csv_path, csv_column_name, new_directory):\n",
    "    \"\"\"\n",
    "    Main function to extract, compare, and copy files.\n",
    "\n",
    "    Parameters:\n",
    "    folder_path (str): Path to the folder containing files.\n",
    "    csv_path (str): Path to the CSV file.\n",
    "    csv_column_name (str): Name of the column in the CSV containing filenames.\n",
    "    new_directory (str): Path to the new directory where unmatched files will be copied.\n",
    "    \"\"\"\n",
    "    folder_filenames = extract_filenames_from_folder(folder_path)\n",
    "    csv_filenames = extract_filenames_from_csv(csv_path, csv_column_name)\n",
    "    files_to_copy = compare_filenames(folder_filenames, csv_filenames)\n",
    "    copy_files_to_new_directory(files_to_copy, folder_path, new_directory)\n",
    "    print(f\"Copied {len(files_to_copy)} files to {new_directory}\")\n",
    "\n",
    "# Example usage:\n",
    "folder_path = '/Users/njlalwani/Documents/GitHub/Ecomm-data/photo_scripts/shopify_images'\n",
    "csv_path = '/Users/njlalwani/Documents/GitHub/Ecomm-data/Descriptions_scripts/product_info_final.csv'\n",
    "csv_column_name = 'Filename'  # Change to your column name in CSV\n",
    "new_directory = 'missing_files'\n",
    "\n",
    "main(folder_path, csv_path, csv_column_name, new_directory)\n"
   ]
  },
  {
   "cell_type": "code",
   "execution_count": 17,
   "metadata": {},
   "outputs": [
    {
     "name": "stdout",
     "output_type": "stream",
     "text": [
      "Number of unique code color combinations : 355\n",
      "Number of unique codes: 322\n"
     ]
    }
   ],
   "source": [
    "import os\n",
    "import re\n",
    "\n",
    "# Define the directory path\n",
    "directory_path ='/Users/njlalwani/Documents/GitHub/Ecomm-data/photo_scripts/shopify_images'\n",
    "\n",
    "# Initialize counters and a set for unique codes\n",
    "num_count = 0\n",
    "unique_codes = set()\n",
    "\n",
    "# Define the regex pattern for matching filenames\n",
    "pattern = re.compile(r'^(?P<code>[^_]+)_[^_]+_(?P<num>\\d+)\\.[a-z]+$')\n",
    "\n",
    "# Iterate over files in the directory\n",
    "for filename in os.listdir(directory_path):\n",
    "    match = pattern.match(filename)\n",
    "    if match:\n",
    "        code = match.group('code')\n",
    "        num = int(match.group('num'))\n",
    "        if num == 1:\n",
    "            num_count += 1\n",
    "        unique_codes.add(code)\n",
    "\n",
    "# Output the results\n",
    "print(f\"Number of unique code color combinations : {num_count}\")\n",
    "print(f\"Number of unique codes: {len(unique_codes)}\")\n"
   ]
  },
  {
   "cell_type": "code",
   "execution_count": 22,
   "metadata": {},
   "outputs": [
    {
     "name": "stdout",
     "output_type": "stream",
     "text": [
      "Number of unique items in the 'Code' column: 321\n"
     ]
    }
   ],
   "source": [
    "import pandas as pd\n",
    "\n",
    "# Define the path to your CSV file\n",
    "csv_file_path = '/Users/njlalwani/Downloads/product_info_final.csv'\n",
    "\n",
    "# Load the CSV file into a DataFrame\n",
    "df = pd.read_csv(csv_file_path)\n",
    "\n",
    "# Get the number of unique items in the 'Code' column\n",
    "unique_codes_count = df['Code'].nunique()\n",
    "\n",
    "# Output the result\n",
    "print(f\"Number of unique items in the 'Code' column: {unique_codes_count}\")\n"
   ]
  },
  {
   "cell_type": "code",
   "execution_count": 8,
   "metadata": {},
   "outputs": [
    {
     "name": "stdout",
     "output_type": "stream",
     "text": [
      "Copied: B8808_White_1.png\n",
      "Copied: E2088_Pink_1.png\n",
      "Copied: E2360_Purple-Print_1.jpg\n",
      "Number of files copied: 3\n"
     ]
    }
   ],
   "source": [
    "import pandas as pd\n",
    "import shutil\n",
    "import os\n",
    "\n",
    "# Define paths\n",
    "csv_file_path = '/Users/njlalwani/Desktop/Issues.csv'  # Path to the CSV file\n",
    "source_directory = '/Users/njlalwani/Documents/GitHub/Ecomm-data/photo_scripts/shopify_images'  # Path to the source directory\n",
    "destination_directory = 'issues_description'  # Path to the destination directory\n",
    "\n",
    "# Create the destination directory if it doesn't exist\n",
    "if not os.path.exists(destination_directory):\n",
    "    os.makedirs(destination_directory)\n",
    "\n",
    "# Load the CSV file into a DataFrame\n",
    "df = pd.read_csv(csv_file_path)\n",
    "\n",
    "# Initialize a counter for the number of files copied\n",
    "files_copied_count = 0\n",
    "\n",
    "# Assuming the column with filenames is named 'Filename'\n",
    "for filename in df['Filename']:\n",
    "    src_file = os.path.join(source_directory, filename)\n",
    "    dest_file = os.path.join(destination_directory, filename)\n",
    "    \n",
    "    # Copy file\n",
    "    if os.path.exists(src_file):\n",
    "        shutil.copy(src_file, dest_file)\n",
    "        files_copied_count += 1\n",
    "        print(f\"Copied: {filename}\")\n",
    "    else:\n",
    "        print(f\"File not found: {filename}\")\n",
    "\n",
    "# Output the result\n",
    "print(f\"Number of files copied: {files_copied_count}\")\n"
   ]
  }
 ],
 "metadata": {
  "kernelspec": {
   "display_name": "base",
   "language": "python",
   "name": "python3"
  },
  "language_info": {
   "codemirror_mode": {
    "name": "ipython",
    "version": 3
   },
   "file_extension": ".py",
   "mimetype": "text/x-python",
   "name": "python",
   "nbconvert_exporter": "python",
   "pygments_lexer": "ipython3",
   "version": "3.11.9"
  }
 },
 "nbformat": 4,
 "nbformat_minor": 2
}
