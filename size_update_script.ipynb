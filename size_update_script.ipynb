{
 "cells": [
  {
   "cell_type": "code",
   "execution_count": 9,
   "metadata": {},
   "outputs": [
    {
     "name": "stdout",
     "output_type": "stream",
     "text": [
      "Updated sheet 'MAIN DATASHEET' in the file /Users/njlalwani/Desktop/MILANO_DATA_LOCKED.xlsx\n"
     ]
    }
   ],
   "source": [
    "import pandas as pd\n",
    "import openpyxl\n",
    "from openpyxl.utils.dataframe import dataframe_to_rows\n",
    "\n",
    "# Load the Excel file\n",
    "file_path = '/Users/njlalwani/Desktop/MILANO_DATA_LOCKED.xlsx'\n",
    "sheet_name_to_update = 'MAIN DATASHEET'  # Replace with the name of the sheet you want to update\n",
    "\n",
    "# Read the specific sheet you want to update\n",
    "df = pd.read_excel(file_path, sheet_name=sheet_name_to_update)\n",
    "\n",
    "# Mapping of sizes to US sizes based on the provided chart\n",
    "size_mapping = {\n",
    "    'S': '8',\n",
    "    'M': '10',\n",
    "    'L': '12',\n",
    "    'XL': '14',\n",
    "    '2XL': '18',\n",
    "    '3XL': '22',\n",
    "    '4XL': '26',\n",
    "    '5XL': '30',\n",
    "    '6XL': '34',\n",
    "    '7XL': '38',\n",
    "    '8XL': '40'\n",
    "}\n",
    "\n",
    "# Function to update sizes\n",
    "def map_size(size):\n",
    "    # If size is in size_mapping, return the mapped value\n",
    "    if size in size_mapping:\n",
    "        return size_mapping[size]\n",
    "    # If size is already a number, return it as is\n",
    "    else:\n",
    "        return size\n",
    "# Apply the size mapping function\n",
    "df['SIZE'] = df['SIZE'].apply(map_size)\n",
    "\n",
    "# Load the workbook and the specific sheet\n",
    "workbook = openpyxl.load_workbook(file_path)\n",
    "sheet = workbook[sheet_name_to_update]\n",
    "\n",
    "# Clear the existing data in the sheet (excluding headers)\n",
    "for row in sheet.iter_rows(min_row=2, max_row=sheet.max_row, max_col=sheet.max_column):\n",
    "    for cell in row:\n",
    "        cell.value = None\n",
    "\n",
    "# Write the updated DataFrame back to the specific sheet\n",
    "for r_idx, row in enumerate(dataframe_to_rows(df, index=False, header=True), 1):\n",
    "    for c_idx, value in enumerate(row, 1):\n",
    "        sheet.cell(row=r_idx, column=c_idx, value=value)\n",
    "\n",
    "# Save the workbook\n",
    "workbook.save(file_path)\n",
    "\n",
    "print(f\"Updated sheet '{sheet_name_to_update}' in the file {file_path}\")\n"
   ]
  }
 ],
 "metadata": {
  "kernelspec": {
   "display_name": "base",
   "language": "python",
   "name": "python3"
  },
  "language_info": {
   "codemirror_mode": {
    "name": "ipython",
    "version": 3
   },
   "file_extension": ".py",
   "mimetype": "text/x-python",
   "name": "python",
   "nbconvert_exporter": "python",
   "pygments_lexer": "ipython3",
   "version": "3.11.9"
  }
 },
 "nbformat": 4,
 "nbformat_minor": 2
}
